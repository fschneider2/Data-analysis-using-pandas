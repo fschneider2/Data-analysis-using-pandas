{
 "cells": [
  {
   "cell_type": "markdown",
   "metadata": {},
   "source": [
    "Import"
   ]
  },
  {
   "cell_type": "code",
   "execution_count": 3,
   "metadata": {},
   "outputs": [],
   "source": [
    "import pandas as pd\n",
    "import numpy as np\n",
    "import os\n",
    "import matplotlib.pyplot as plt"
   ]
  },
  {
   "cell_type": "markdown",
   "metadata": {},
   "source": [
    "Lendo arquivo e criando DataFrame"
   ]
  },
  {
   "cell_type": "code",
   "execution_count": 4,
   "metadata": {},
   "outputs": [],
   "source": [
    "\n",
    "data = pd.read_csv(\"vgsales.csv\")"
   ]
  },
  {
   "cell_type": "markdown",
   "metadata": {},
   "source": [
    "1) Qual foi o jogo mais vendido no mundo em 2010?"
   ]
  },
  {
   "cell_type": "code",
   "execution_count": 7,
   "metadata": {},
   "outputs": [
    {
     "name": "stdout",
     "output_type": "stream",
     "text": [
      "+ ------------------------------------------------------------------------------------------------------------------------------------------------------ +\n",
      "O jogo mais vendido de 2010 é Kinect Adventures!, Produzido pela empresa Microsoft Game Studios, para plataforma X360.\n",
      "+ ------------------------------------------------------------------------------------------------------------------------------------------------------ +\n"
     ]
    }
   ],
   "source": [
    "word_game_sales_2010 = data[data['Year'] == 2010]\n",
    "\n",
    "word_game_sales_2010.sort_values(by='Global_Sales')\n",
    "\n",
    "word_game_sales_2010 = word_game_sales_2010.iloc[0]\n",
    "\n",
    "print('+', '-'*150, '+')\n",
    "print(f\"O jogo mais vendido de 2010 é {word_game_sales_2010['Name']}, Produzido pela empresa {word_game_sales_2010['Publisher']}, para plataforma {word_game_sales_2010['Platform']}.\")\n",
    "print('+', '-'*150, '+')\n"
   ]
  },
  {
   "cell_type": "markdown",
   "metadata": {},
   "source": [
    "2) Qual foi o gênero mais vendido na américa do norte em 2005"
   ]
  },
  {
   "cell_type": "code",
   "execution_count": 8,
   "metadata": {},
   "outputs": [
    {
     "name": "stdout",
     "output_type": "stream",
     "text": [
      "+ ---------------------------------------------------------------------------------------------------- +\n",
      "O genero mais vendido de 2005 na américa do norte é Action.\n",
      "+ ---------------------------------------------------------------------------------------------------- +\n"
     ]
    }
   ],
   "source": [
    "genre_sales_na_2005 = data[data['Year'] == 2005]\n",
    "\n",
    "genre_sales_na_2005 = genre_sales_na_2005.groupby(['Genre']).sum()\n",
    "\n",
    "genre_sales_na_2005 = genre_sales_na_2005.sort_values(by='NA_Sales', ascending=False)\n",
    "\n",
    "genre_sales_na_2005 = genre_sales_na_2005.iloc[0].name\n",
    "\n",
    "print('+', '-'*100, '+')\n",
    "print(f\"O genero mais vendido de 2005 na américa do norte é {genre_sales_na_2005}.\")\n",
    "print('+', '-'*100, '+')\n"
   ]
  },
  {
   "cell_type": "markdown",
   "metadata": {},
   "source": [
    "3) Qual foi a empresa que mais vendeu de 2005 até 2016"
   ]
  },
  {
   "cell_type": "code",
   "execution_count": 9,
   "metadata": {},
   "outputs": [
    {
     "name": "stdout",
     "output_type": "stream",
     "text": [
      "+ ---------------------------------------------------------------------------------------------------- +\n",
      "Quem mais vendeu de 2005 a 2016 foi a empresa Nintendo.\n",
      "+ ---------------------------------------------------------------------------------------------------- +\n"
     ]
    }
   ],
   "source": [
    "\n",
    "\n",
    "best_company_2005_2016 = data[data['Year'] >= 2005]\n",
    "\n",
    "best_company_2005_2016 = best_company_2005_2016.groupby(['Publisher']).sum()\n",
    "\n",
    "best_company_2005_2016 = best_company_2005_2016.sort_values(by='Global_Sales', ascending=False)\n",
    "\n",
    "best_company_2005_2016 = best_company_2005_2016.iloc[0].name\n",
    "\n",
    "print('+', '-'*100, '+')\n",
    "print(f\"Quem mais vendeu de 2005 a 2016 foi a empresa {best_company_2005_2016}.\")\n",
    "print('+', '-'*100, '+')\n"
   ]
  },
  {
   "cell_type": "markdown",
   "metadata": {},
   "source": [
    "4) Qual o nome do jogo que menos foi vendido em 2008 do gênero Sports."
   ]
  },
  {
   "cell_type": "code",
   "execution_count": 10,
   "metadata": {},
   "outputs": [
    {
     "name": "stdout",
     "output_type": "stream",
     "text": [
      "+ ---------------------------------------------------------------------------------------------------- +\n",
      "O jogo do gênero Sports, menos vendido de 2005 foi Fab 5 Soccer.\n",
      "+ ---------------------------------------------------------------------------------------------------- +\n"
     ]
    }
   ],
   "source": [
    "least_sold_game_sports_2008 = data.query(\"Year == 2008 & Genre == 'Sports'\")\n",
    "\n",
    "least_sold_game_sports_2008 = least_sold_game_sports_2008.groupby('Name').sum()\n",
    "\n",
    "least_sold_game_sports_2008 = least_sold_game_sports_2008.sort_values(by='Global_Sales')\n",
    "\n",
    "least_sold_game_sports_2008 = least_sold_game_sports_2008.iloc[0].name\n",
    "\n",
    "print('+', '-'*100, '+')\n",
    "print(f\"O jogo do gênero Sports, menos vendido de 2005 foi {least_sold_game_sports_2008}.\")\n",
    "print('+', '-'*100, '+')\n"
   ]
  },
  {
   "cell_type": "markdown",
   "metadata": {},
   "source": [
    "5) Mostre um gráfico com o total de vendas por ano."
   ]
  },
  {
   "cell_type": "code",
   "execution_count": 11,
   "metadata": {},
   "outputs": [
    {
     "data": {
      "image/png": "[encoded data removed]",
      "text/plain": [
       "<Figure size 432x288 with 1 Axes>"
      ]
     },
     "metadata": {
      "needs_background": "light"
     },
     "output_type": "display_data"
    }
   ],
   "source": [
    "sales_per_year = data[['Year', 'Global_Sales']]\n",
    "\n",
    "sales_per_year = sales_per_year.groupby('Year').sum()\n",
    "\n",
    "sales_per_year.plot(kind='bar')\n",
    "\n",
    "plt.show()"
   ]
  },
  {
   "cell_type": "markdown",
   "metadata": {},
   "source": [
    "6) Qual foi o ano com mais lançamentos de jogos?"
   ]
  },
  {
   "cell_type": "code",
   "execution_count": 12,
   "metadata": {},
   "outputs": [
    {
     "name": "stdout",
     "output_type": "stream",
     "text": [
      "Year\n",
      "2009    1433\n",
      "dtype: int64\n"
     ]
    }
   ],
   "source": [
    "more_games_year = data[['Year']]\n",
    "\n",
    "more_games_year = more_games_year.groupby('Year').value_counts().sort_values(ascending = False)\n",
    "\n",
    "more_games_year = more_games_year.iloc[[0]]\n",
    "\n",
    "print(more_games_year)"
   ]
  },
  {
   "cell_type": "markdown",
   "metadata": {},
   "source": [
    "7) Qual a plataforma que menos lançou jogos?"
   ]
  },
  {
   "cell_type": "code",
   "execution_count": 13,
   "metadata": {},
   "outputs": [
    {
     "name": "stdout",
     "output_type": "stream",
     "text": [
      "Platform\n",
      "GG    1\n",
      "dtype: int64\n"
     ]
    }
   ],
   "source": [
    "platform_less_games = data[['Platform']]\n",
    "\n",
    "platform_less_games = platform_less_games.groupby('Platform').value_counts().sort_values()\n",
    "\n",
    "\n",
    "platform_less_games = platform_less_games.iloc[[0]]\n",
    "\n",
    "print(platform_less_games)"
   ]
  },
  {
   "cell_type": "markdown",
   "metadata": {},
   "source": [
    "8) Qual plataforma que mais gerou lucros com jogos do gênero Action desde 2009?"
   ]
  },
  {
   "cell_type": "code",
   "execution_count": 14,
   "metadata": {},
   "outputs": [
    {
     "name": "stdout",
     "output_type": "stream",
     "text": [
      "A plataforma que mais lucrou com o gênero Action de 2016 até 2016 foi a PS3\n"
     ]
    }
   ],
   "source": [
    "platform_more_profit_action_from_2009 = data[data['Year'] >= 2009]\n",
    "\n",
    "platform_more_profit_action_from_2009 = platform_more_profit_action_from_2009[platform_more_profit_action_from_2009['Genre'] == 'Action']\n",
    "\n",
    "platform_more_profit_action_from_2009.groupby('Platform')['Global_Sales'].sum()\n",
    "\n",
    "platform_more_profit_action_from_2009 = platform_more_profit_action_from_2009.sort_values(by='Global_Sales', ascending= False)\n",
    "\n",
    "platform_more_profit_action_from_2009 = platform_more_profit_action_from_2009.iloc[0]\n",
    "\n",
    "print(f\"A plataforma que mais lucrou com o gênero Action de 2009 até 2016 foi a {platform_more_profit_action_from_2009['Platform']}\")"
   ]
  },
  {
   "cell_type": "markdown",
   "metadata": {},
   "source": [
    "9) Qual empresa teve o maior lucro (sob o teto de 0.35 milhões) de 1980 até 1995, excluindo-se a plataforma SNES."
   ]
  },
  {
   "cell_type": "code",
   "execution_count": null,
   "metadata": {},
   "outputs": [],
   "source": []
  },
  {
   "cell_type": "markdown",
   "metadata": {},
   "source": [
    "10)A empresa que mais lucrou no Japão em 2003 é a mesma que mais lucrou na europa nesse mesmo ano?"
   ]
  },
  {
   "cell_type": "code",
   "execution_count": null,
   "metadata": {},
   "outputs": [],
   "source": []
  },
  {
   "cell_type": "markdown",
   "metadata": {},
   "source": [
    "11)Qual o percentual relacionado às vendas globais de jogos de Wii (excluindo-se América do norte, japão e europa) de 2006 até 2010?"
   ]
  },
  {
   "cell_type": "code",
   "execution_count": null,
   "metadata": {},
   "outputs": [],
   "source": []
  },
  {
   "cell_type": "markdown",
   "metadata": {},
   "source": [
    "12)Mostre um gráfico de linhas com as vendas em diferentes plataformas ao longo dos anos."
   ]
  },
  {
   "cell_type": "code",
   "execution_count": null,
   "metadata": {},
   "outputs": [],
   "source": []
  },
  {
   "cell_type": "markdown",
   "metadata": {},
   "source": [
    "\n",
    "13)Mostre um gráfico de pizza com o percentual de vendas dos diferentes gêneros de jogos."
   ]
  },
  {
   "cell_type": "code",
   "execution_count": null,
   "metadata": {},
   "outputs": [],
   "source": []
  }
 ],
 "metadata": {
  "kernelspec": {
   "display_name": "Python 3.10.4 64-bit",
   "language": "python",
   "name": "python3"
  },
  "language_info": {
   "codemirror_mode": {
    "name": "ipython",
    "version": 3
   },
   "file_extension": ".py",
   "mimetype": "text/x-python",
   "name": "python",
   "nbconvert_exporter": "python",
   "pygments_lexer": "ipython3",
   "version": "3.10.4"
  },
  "orig_nbformat": 4,
  "vscode": {
   "interpreter": {
    "hash": "31f2aee4e71d21fbe5cf8b01ff0e069b9275f58929596ceb00d14d90e3e16cd6"
   }
  }
 },
 "nbformat": 4,
 "nbformat_minor": 2
}
