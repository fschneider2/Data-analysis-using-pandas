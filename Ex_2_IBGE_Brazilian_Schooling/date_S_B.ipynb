{
 "cells": [
  {
   "cell_type": "markdown",
   "metadata": {},
   "source": [
    "### Import"
   ]
  },
  {
   "cell_type": "code",
   "execution_count": 40,
   "metadata": {},
   "outputs": [],
   "source": [
    "import pandas as pd\n",
    "import numpy as np\n",
    "import os\n",
    "import matplotlib.pyplot as plt"
   ]
  },
  {
   "cell_type": "markdown",
   "metadata": {},
   "source": [
    "### Lendo arquivo e criando DataFrame"
   ]
  },
  {
   "cell_type": "code",
   "execution_count": 41,
   "metadata": {},
   "outputs": [],
   "source": [
    "data = pd.read_csv(\"IBGE_dados.csv\")\n",
    "\n",
    "# 1 \tSem instrução e menos de 1 ano\n",
    "# 2 \t1 ano\n",
    "# 3 \t2 anos\n",
    "# 4 \t3 anos\n",
    "# 5 \t4 anos\n",
    "# 6 \t5 anos\n",
    "# 7 \t6 anos\n",
    "# 8 \t7 anos\n",
    "# 9 \t8 anos\n",
    "# 10 \t9 anos\n",
    "# 11 \t10 anos\n",
    "# 12 \t11 anos\n",
    "# 13 \t12 anos\n",
    "# 14 \t13 anos\n",
    "# 15 \t14 anos\n",
    "# 16 \t15 anos ou mais\n",
    "# 17 \tNão determinados"
   ]
  },
  {
   "cell_type": "markdown",
   "metadata": {},
   "source": [
    "### 1) Qual a quantidade de pessoas nas seguintes faixas etárias\n",
    "a) 20 anos ou menos\n",
    "b) 21 a 35 anos\n",
    "c) 36 a 50 anos\n",
    "d) 51 a 65 anos\n",
    "e) maiores de 65 anos"
   ]
  },
  {
   "cell_type": "code",
   "execution_count": 42,
   "metadata": {},
   "outputs": [
    {
     "name": "stdout",
     "output_type": "stream",
     "text": [
      "a) 764 pessoas tem 20 anos ou menos\n",
      "b) 20654 pessoas tem entre 21 a 35 anos\n",
      "c) 31770 pessoas tem entre 36 e 50 anos\n",
      "d) 20006 pessoas tem entre 51 e 65 anos\n",
      "e) 3646 pessoas tem mais de 65 anos\n"
     ]
    }
   ],
   "source": [
    "year_max_20 = data[data['Idade'] <= 20] \n",
    "\n",
    "year_max_35 = data.query(\"Idade >= 21 and Idade <= 35\")\n",
    "\n",
    "year_max_50 = data.query(\"Idade >= 36 and Idade <= 50\")\n",
    "\n",
    "year_max_65 = data.query(\"Idade >= 51 and Idade <= 65\")\n",
    " \n",
    "over_65_year = data[data['Idade'] > 65]\n",
    "\n",
    "print(f\"a) {year_max_20.count()['Idade']} pessoas tem 20 anos ou menos\")\n",
    "\n",
    "print(f\"b) {year_max_35.count()['Idade']} pessoas tem entre 21 a 35 anos\")\n",
    "\n",
    "print(f\"c) {year_max_50.count()['Idade']} pessoas tem entre 36 e 50 anos\")\n",
    "\n",
    "print(f\"d) {year_max_65.count()['Idade']} pessoas tem entre 51 e 65 anos\")\n",
    "\n",
    "print(f\"e) {over_65_year.count()['Idade']} pessoas tem mais de 65 anos\")"
   ]
  },
  {
   "cell_type": "markdown",
   "metadata": {},
   "source": [
    "### 2) Qual é a média de escolaridade em cada faixa etária?"
   ]
  },
  {
   "cell_type": "code",
   "execution_count": 43,
   "metadata": {},
   "outputs": [
    {
     "name": "stdout",
     "output_type": "stream",
     "text": [
      " Pessoas de 20 anos ou menos tem em media 9.69502617801047 anos de estudo\n",
      " Pessoas entre 21 e 35 anos tem em media 10.813111261741067 anos de estudo\n",
      " Pessoas entre 36 e 50 anos tem em media 9.764274472773057 anos de estudo\n",
      " Pessoas entre 51 e 65 anos tem em media 8.267319804058783 anos de estudo\n",
      " Pessoas de mais de 65 anos tem em media 5.842292923752057 anos de estudo\n"
     ]
    }
   ],
   "source": [
    "print(f\" Pessoas de 20 anos ou menos tem em media {year_max_20.mean()['Anos de Estudo']} anos de estudo\")\n",
    "\n",
    "print(f\" Pessoas entre 21 e 35 anos tem em media {year_max_35.mean()['Anos de Estudo']} anos de estudo\")\n",
    "\n",
    "print(f\" Pessoas entre 36 e 50 anos tem em media {year_max_50.mean()['Anos de Estudo']} anos de estudo\")\n",
    "\n",
    "print(f\" Pessoas entre 51 e 65 anos tem em media {year_max_65.mean()['Anos de Estudo']} anos de estudo\")\n",
    "\n",
    "print(f\" Pessoas de mais de 65 anos tem em media {over_65_year.mean()['Anos de Estudo']} anos de estudo\")"
   ]
  },
  {
   "cell_type": "markdown",
   "metadata": {},
   "source": [
    "### 3) Qual a UF que concentra a maior renda?"
   ]
  },
  {
   "cell_type": "code",
   "execution_count": 44,
   "metadata": {},
   "outputs": [
    {
     "name": "stdout",
     "output_type": "stream",
     "text": [
      "O UF que concentra a maior renda é a de código 53\n"
     ]
    }
   ],
   "source": [
    "uf_highest_income = data[['UF','Renda']]\n",
    "\n",
    "uf_highest_income.groupby('UF').sum()\n",
    "\n",
    "print(f\"O UF que concentra a maior renda é a de código {uf_highest_income.max()['UF']}\")"
   ]
  },
  {
   "cell_type": "markdown",
   "metadata": {},
   "source": [
    "4) Qual a renda média de pessoas pretas e brancas de homens e mulheres?"
   ]
  },
  {
   "cell_type": "code",
   "execution_count": 58,
   "metadata": {},
   "outputs": [
    {
     "data": {
      "text/plain": [
       "Cor  Sexo\n",
       "2    0       2925.744435\n",
       "     1       2109.866750\n",
       "4    0       1603.861687\n",
       "     1       1134.596400\n",
       "Name: Renda, dtype: float64"
      ]
     },
     "execution_count": 58,
     "metadata": {},
     "output_type": "execute_result"
    }
   ],
   "source": [
    "mean_peaple = data.query(\"Cor in [2,4]\")\n",
    "\n",
    "mean_peaple = mean_peaple.groupby(['Cor','Sexo']).mean()['Renda']\n",
    "\n",
    "mean_peaple"
   ]
  },
  {
   "cell_type": "markdown",
   "metadata": {},
   "source": [
    "5) Qual a renda média concentrada em cada faixa etária?"
   ]
  },
  {
   "cell_type": "code",
   "execution_count": 60,
   "metadata": {},
   "outputs": [
    {
     "name": "stdout",
     "output_type": "stream",
     "text": [
      " Pessoas de 20 anos ou menos tem renda media de R$ 985.348167539267\n",
      " Pessoas entre 21 e 35 anos tem renda media de R$ 1748.2861431199767\n",
      " Pessoas entre 36 e 50 anos tem renda media de R$ 2113.756090651558\n",
      " Pessoas entre 51 e 65 anos tem renda media de R$ 2150.1967409777067\n",
      " Pessoas de mais de 65 anos tem renda media de R$ 1831.2314865606145\n"
     ]
    }
   ],
   "source": [
    "print(f\" Pessoas de 20 anos ou menos tem renda media de R$ {year_max_20.mean()['Renda']}\")\n",
    "\n",
    "print(f\" Pessoas entre 21 e 35 anos tem renda media de R$ {year_max_35.mean()['Renda']}\")\n",
    "\n",
    "print(f\" Pessoas entre 36 e 50 anos tem renda media de R$ {year_max_50.mean()['Renda']}\")\n",
    "\n",
    "print(f\" Pessoas entre 51 e 65 anos tem renda media de R$ {year_max_65.mean()['Renda']}\")\n",
    "\n",
    "print(f\" Pessoas de mais de 65 anos tem renda media de R$ {over_65_year.mean()['Renda']}\")"
   ]
  },
  {
   "cell_type": "markdown",
   "metadata": {},
   "source": [
    "6) Qual a renda média nas faixas de anos de estudo abaixo?\n",
    "a) 2 anos ou menos\n",
    "b) 3 a 6 anos\n",
    "c) 7 a 10 anos\n",
    "d) 10 a 12 anos\n",
    "e) 13 anos ou mais"
   ]
  },
  {
   "cell_type": "code",
   "execution_count": null,
   "metadata": {},
   "outputs": [],
   "source": []
  },
  {
   "cell_type": "markdown",
   "metadata": {},
   "source": [
    "7) Qual a maior escolaridade entre indígenas, para homens e mulheres?"
   ]
  },
  {
   "cell_type": "code",
   "execution_count": null,
   "metadata": {},
   "outputs": [],
   "source": []
  },
  {
   "cell_type": "markdown",
   "metadata": {},
   "source": [
    "8) Qual a média de anos de estudo entre brancos e negros?"
   ]
  },
  {
   "cell_type": "code",
   "execution_count": null,
   "metadata": {},
   "outputs": [],
   "source": []
  },
  {
   "cell_type": "markdown",
   "metadata": {},
   "source": [
    "9) Qual a média de anos de estudo e de renda para mulheres brancas, e para mulheres negras?"
   ]
  },
  {
   "cell_type": "code",
   "execution_count": null,
   "metadata": {},
   "outputs": [],
   "source": []
  },
  {
   "cell_type": "markdown",
   "metadata": {},
   "source": [
    "10) Qual é a UF com maior média de escolaridade e qual a UF com maior média de renda?"
   ]
  },
  {
   "cell_type": "code",
   "execution_count": null,
   "metadata": {},
   "outputs": [],
   "source": []
  },
  {
   "cell_type": "markdown",
   "metadata": {},
   "source": [
    "11)Elabore você uma pergunta sobre a base de dados e escreva o código para \n",
    "responder a pergunta."
   ]
  },
  {
   "cell_type": "code",
   "execution_count": null,
   "metadata": {},
   "outputs": [],
   "source": []
  }
 ],
 "metadata": {
  "kernelspec": {
   "display_name": "Python 3.10.4 64-bit",
   "language": "python",
   "name": "python3"
  },
  "language_info": {
   "codemirror_mode": {
    "name": "ipython",
    "version": 3
   },
   "file_extension": ".py",
   "mimetype": "text/x-python",
   "name": "python",
   "nbconvert_exporter": "python",
   "pygments_lexer": "ipython3",
   "version": "3.10.4"
  },
  "orig_nbformat": 4,
  "vscode": {
   "interpreter": {
    "hash": "31f2aee4e71d21fbe5cf8b01ff0e069b9275f58929596ceb00d14d90e3e16cd6"
   }
  }
 },
 "nbformat": 4,
 "nbformat_minor": 2
}
